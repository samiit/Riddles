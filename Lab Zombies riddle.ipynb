{
 "cells": [
  {
   "cell_type": "markdown",
   "metadata": {},
   "source": [
    "# Problem\n",
    "You are in front of a unstable rope bridge, with 3 others waiting to cross your way to safety on a dark night. You have limited time to cross and each of you need different amount of time to get across.\n",
    "\n",
    "- You: 1 min\n",
    "- Assistant: 2 min\n",
    "- Janitor: 5 min\n",
    "- Prof: 10 min\n",
    "\n",
    "The bridge being rickety cannot allow more than 2 on it at any given time. Also because it is dark, you need to use the only torch which you have to share among yourselves.\n",
    "\n",
    "What is the minimum time needed? Can you get across in 17 minutes?\n",
    "\n",
    "This is based on Alex Gendler's description: https://www.youtube.com/watch?v=7yDmGnA8Hw0"
   ]
  },
  {
   "cell_type": "code",
   "execution_count": 1,
   "metadata": {
    "ExecuteTime": {
     "end_time": "2020-04-06T10:31:15.073800Z",
     "start_time": "2020-04-06T10:31:15.070028Z"
    }
   },
   "outputs": [],
   "source": [
    "travelTime = {\"Prof\":10, \"Janitor\": 5, \"Asst\": 2, \"Me\": 1} "
   ]
  },
  {
   "cell_type": "markdown",
   "metadata": {},
   "source": [
    "# Solution"
   ]
  },
  {
   "cell_type": "markdown",
   "metadata": {},
   "source": [
    "The trick to such problems is always to get the decision variables right!"
   ]
  },
  {
   "cell_type": "markdown",
   "metadata": {},
   "source": [
    "## Trips\n",
    "Since, there are 4 people, the minimum no. of trips needed in any case is 3, with the first two trips followed by, a person coming back with the torch"
   ]
  },
  {
   "cell_type": "code",
   "execution_count": 2,
   "metadata": {
    "ExecuteTime": {
     "end_time": "2020-04-06T10:31:15.151821Z",
     "start_time": "2020-04-06T10:31:15.081617Z"
    }
   },
   "outputs": [],
   "source": [
    "Ntrips = len(travelTime) - 1"
   ]
  },
  {
   "cell_type": "markdown",
   "metadata": {},
   "source": [
    "### Packages"
   ]
  },
  {
   "cell_type": "code",
   "execution_count": 3,
   "metadata": {
    "ExecuteTime": {
     "end_time": "2020-04-06T10:31:15.277231Z",
     "start_time": "2020-04-06T10:31:15.153627Z"
    }
   },
   "outputs": [],
   "source": [
    "import pulp as pl"
   ]
  },
  {
   "cell_type": "markdown",
   "metadata": {},
   "source": [
    "## Decision variables"
   ]
  },
  {
   "cell_type": "markdown",
   "metadata": {},
   "source": [
    "For each person, define binary decision variables, corresponding to each of the\n",
    "- 3 onward trips, and \n",
    "- 2 return trips\n",
    "\n",
    "If the person goes across, the corresponding binary variable would switch on (1), otherwise, it will be off (0).\n",
    "\n",
    "Additionally, define waiting variables after each trip, across the bridge"
   ]
  },
  {
   "cell_type": "code",
   "execution_count": 4,
   "metadata": {
    "ExecuteTime": {
     "end_time": "2020-04-06T10:31:15.290498Z",
     "start_time": "2020-04-06T10:31:15.280666Z"
    }
   },
   "outputs": [],
   "source": [
    "X1 = pl.LpVariable.dict( \"Trip 1\", travelTime.keys(), cat = pl.LpBinary)\n",
    "Y1 = pl.LpVariable.dict(\"Trip 1 Rt\", travelTime.keys(), cat = pl.LpBinary)\n",
    "W1 = pl.LpVariable.dict( \"Wait 1\", travelTime.keys(), cat = pl.LpBinary)\n",
    "\n",
    "X2 = pl.LpVariable.dict(\"Trip 2\", travelTime.keys(), cat = pl.LpBinary)\n",
    "Y2 = pl.LpVariable.dict(\"Trip 2 Rt\", travelTime.keys(), cat = pl.LpBinary)\n",
    "W2 = pl.LpVariable.dict( \"Wait 2\", travelTime.keys(), cat = pl.LpBinary)\n",
    "\n",
    "X3 = pl.LpVariable.dict(\"Trip 3\", travelTime.keys(), cat = pl.LpBinary )"
   ]
  },
  {
   "cell_type": "markdown",
   "metadata": {},
   "source": [
    "## Initialize the problem"
   ]
  },
  {
   "cell_type": "code",
   "execution_count": 5,
   "metadata": {
    "ExecuteTime": {
     "end_time": "2020-04-06T10:31:15.353284Z",
     "start_time": "2020-04-06T10:31:15.293162Z"
    }
   },
   "outputs": [],
   "source": [
    "prob = pl.LpProblem(\"Lab zombie\", pl.LpMinimize)"
   ]
  },
  {
   "cell_type": "markdown",
   "metadata": {},
   "source": [
    "## Constraints"
   ]
  },
  {
   "cell_type": "markdown",
   "metadata": {},
   "source": [
    "### Trip 1"
   ]
  },
  {
   "cell_type": "markdown",
   "metadata": {},
   "source": [
    "- Only 2 of the people should go on the bridge"
   ]
  },
  {
   "cell_type": "code",
   "execution_count": 6,
   "metadata": {
    "ExecuteTime": {
     "end_time": "2020-04-06T10:31:15.447989Z",
     "start_time": "2020-04-06T10:31:15.354982Z"
    }
   },
   "outputs": [],
   "source": [
    "prob += pl.lpSum(X1) == 2, \"Trip 1 onward\""
   ]
  },
  {
   "cell_type": "markdown",
   "metadata": {},
   "source": [
    "### Return from Trip 1"
   ]
  },
  {
   "cell_type": "markdown",
   "metadata": {},
   "source": [
    "- 1 of those on the other side should return with the torch"
   ]
  },
  {
   "cell_type": "code",
   "execution_count": 7,
   "metadata": {
    "ExecuteTime": {
     "end_time": "2020-04-06T10:31:15.516987Z",
     "start_time": "2020-04-06T10:31:15.450023Z"
    }
   },
   "outputs": [],
   "source": [
    "prob += pl.lpSum(Y1) == 1, \"Trip 1 returns\""
   ]
  },
  {
   "cell_type": "markdown",
   "metadata": {},
   "source": [
    "- While the above ensures that one of the 4 people return, how do we ensure that it is only one of those who got across the bridge in the first place?\n",
    "- Ensure that the return variablesof each person doesn't exceed its corresponding onward trip value!"
   ]
  },
  {
   "cell_type": "code",
   "execution_count": 8,
   "metadata": {
    "ExecuteTime": {
     "end_time": "2020-04-06T10:31:15.584141Z",
     "start_time": "2020-04-06T10:31:15.523178Z"
    }
   },
   "outputs": [],
   "source": [
    "for p in travelTime:\n",
    "    prob += Y1[p] <= X1[p], \"Trip 1 valid return of \" + str(p)"
   ]
  },
  {
   "cell_type": "markdown",
   "metadata": {},
   "source": [
    "### Waiting across the bridge after Trip 1"
   ]
  },
  {
   "cell_type": "markdown",
   "metadata": {},
   "source": [
    "- The persons waiting across the bridge would have their corresponding waiting variable on (1)\n",
    "- Waiting variable corresponds to those who came across and did not return\n",
    "    - Difference between onward and return trip variable"
   ]
  },
  {
   "cell_type": "code",
   "execution_count": 9,
   "metadata": {
    "ExecuteTime": {
     "end_time": "2020-04-06T10:31:15.660333Z",
     "start_time": "2020-04-06T10:31:15.588526Z"
    }
   },
   "outputs": [],
   "source": [
    "for p in travelTime:\n",
    "    prob += W1[p] == X1[p]- Y1[p], \"Trip 1 waiting \" + str(p)"
   ]
  },
  {
   "cell_type": "markdown",
   "metadata": {},
   "source": [
    "### Trip 2\n",
    "- Only 2 can go on the bridge, but they can be one among:\n",
    "    - those still waiting on the departure side of the bridge (did not go across on the first trip)\n",
    "    - the one who returned after the first trip with the torch"
   ]
  },
  {
   "cell_type": "markdown",
   "metadata": {},
   "source": [
    "- Only 2 can go at a time"
   ]
  },
  {
   "cell_type": "code",
   "execution_count": 10,
   "metadata": {
    "ExecuteTime": {
     "end_time": "2020-04-06T10:31:15.738785Z",
     "start_time": "2020-04-06T10:31:15.663550Z"
    }
   },
   "outputs": [],
   "source": [
    "prob += pl.lpSum(X2) == 2, \"Trip 2 onward\""
   ]
  },
  {
   "cell_type": "markdown",
   "metadata": {},
   "source": [
    "- Ensure that the one who is waiting on the other side, is excluded from the second trip\n",
    "    - the corresponding second trip variable should be zero always\n",
    "        - For the waiting person, from the first trip, difference between onward and return variable must be 1\n",
    "        - For all others, this difference in the first trip variables is 0"
   ]
  },
  {
   "cell_type": "code",
   "execution_count": 11,
   "metadata": {
    "ExecuteTime": {
     "end_time": "2020-04-06T10:31:15.863129Z",
     "start_time": "2020-04-06T10:31:15.741673Z"
    }
   },
   "outputs": [],
   "source": [
    "for p in travelTime:\n",
    "    prob += X2[p] <= 1 - W1[p], \"Trip 2 valid onward \" + str(p)"
   ]
  },
  {
   "cell_type": "markdown",
   "metadata": {},
   "source": [
    "### Trip 2 return\n",
    "- Only one can return, from among 3 people\n",
    "    - those who got across on the second trip\n",
    "    - the one waiting from the first strip"
   ]
  },
  {
   "cell_type": "markdown",
   "metadata": {},
   "source": [
    "- Only one can return"
   ]
  },
  {
   "cell_type": "code",
   "execution_count": 12,
   "metadata": {
    "ExecuteTime": {
     "end_time": "2020-04-06T10:31:15.941500Z",
     "start_time": "2020-04-06T10:31:15.865436Z"
    }
   },
   "outputs": [],
   "source": [
    "prob += pl.lpSum(Y2) == 1, \"Trip 2 returns\""
   ]
  },
  {
   "cell_type": "markdown",
   "metadata": {},
   "source": [
    "- Ensure those who return are either \n",
    "    - those who participated in the second trip (second trip variables)\n",
    "    - the one who was waiting all along across the bridge"
   ]
  },
  {
   "cell_type": "code",
   "execution_count": 13,
   "metadata": {
    "ExecuteTime": {
     "end_time": "2020-04-06T10:31:16.048262Z",
     "start_time": "2020-04-06T10:31:15.943815Z"
    }
   },
   "outputs": [],
   "source": [
    "for p in travelTime:\n",
    "    # For each person, ensure\n",
    "    #   they can only return if, \n",
    "    #               they just went across on the second trip\n",
    "    #                      or, they were waiting after the first trip\n",
    "    prob += Y2[p] <= X2[p] + W1[p], \"Trip 2 valid return of \" + str(p)"
   ]
  },
  {
   "cell_type": "markdown",
   "metadata": {},
   "source": [
    "### Waiting across the bridge after Trip 2"
   ]
  },
  {
   "cell_type": "markdown",
   "metadata": {},
   "source": [
    "- The persons waiting across the bridge would have their corresponding waiting variable on (1)\n",
    "- Waiting variable corresponds to those who came across now and did not return\n",
    "    - Difference between onward and return trip variable\n",
    "    - Or, who were waiting already from the first trip"
   ]
  },
  {
   "cell_type": "code",
   "execution_count": 14,
   "metadata": {
    "ExecuteTime": {
     "end_time": "2020-04-06T10:31:16.189079Z",
     "start_time": "2020-04-06T10:31:16.050471Z"
    }
   },
   "outputs": [],
   "source": [
    "for p in travelTime:\n",
    "    prob += W2[p] == W1[p] + X2[p]- Y2[p], \"Trip 2 waiting \" + str(p)"
   ]
  },
  {
   "cell_type": "markdown",
   "metadata": {},
   "source": [
    "### Trip 3\n",
    "- Only those 2 can participate, who is not across the bridge already"
   ]
  },
  {
   "cell_type": "markdown",
   "metadata": {},
   "source": [
    "- Only 2 can participate"
   ]
  },
  {
   "cell_type": "code",
   "execution_count": 15,
   "metadata": {
    "ExecuteTime": {
     "end_time": "2020-04-06T10:31:16.314233Z",
     "start_time": "2020-04-06T10:31:16.191050Z"
    }
   },
   "outputs": [],
   "source": [
    "prob += pl.lpSum(X3) == 2, \"Trip 3 onward\""
   ]
  },
  {
   "cell_type": "markdown",
   "metadata": {},
   "source": [
    "- Ensure the one/s waiting across the bridge don't participate\n",
    "    - the corresponding third trip variable should be zero always\n",
    "        - For the waiting person/s, from the first or second trip, difference between onward and return variable will be 1        \n",
    "        - For all others, this difference in the second trip variables is 0"
   ]
  },
  {
   "cell_type": "code",
   "execution_count": 16,
   "metadata": {
    "ExecuteTime": {
     "end_time": "2020-04-06T10:31:16.405410Z",
     "start_time": "2020-04-06T10:31:16.321018Z"
    }
   },
   "outputs": [],
   "source": [
    "for p in travelTime:\n",
    "    prob += X3[p] <= 1 - W2[p], \"Trip 3 valid onward \" + str(p)"
   ]
  },
  {
   "cell_type": "markdown",
   "metadata": {},
   "source": [
    "*Trip 3 has no return journey*"
   ]
  },
  {
   "cell_type": "markdown",
   "metadata": {},
   "source": [
    "### Safety concern\n",
    "- Each person must at least once go across the bridge"
   ]
  },
  {
   "cell_type": "markdown",
   "metadata": {
    "ExecuteTime": {
     "end_time": "2020-04-06T10:20:18.255862Z",
     "start_time": "2020-04-06T10:20:18.181831Z"
    }
   },
   "source": [
    "for p in travelTime:\n",
    "    prob += X1[p] + X2[p] + X3[p] >= 1, str(p) + \" must get across\""
   ]
  },
  {
   "cell_type": "markdown",
   "metadata": {},
   "source": [
    "## Travel time"
   ]
  },
  {
   "cell_type": "markdown",
   "metadata": {},
   "source": [
    "- Each trip's time is the maximum of the ones taking the trip\n",
    "- We can create variables for onward trip time\n",
    "    - For each trip, ensure the trip-time is greater than the time of those taking the trip"
   ]
  },
  {
   "cell_type": "code",
   "execution_count": 17,
   "metadata": {
    "ExecuteTime": {
     "end_time": "2020-04-06T10:31:16.480799Z",
     "start_time": "2020-04-06T10:31:16.413638Z"
    }
   },
   "outputs": [],
   "source": [
    "t1 = pl.LpVariable('t1', lowBound=0, cat = pl.LpContinuous)\n",
    "t2 = pl.LpVariable('t2', lowBound=0, cat = pl.LpContinuous)\n",
    "t3 = pl.LpVariable('t3', lowBound=0, cat = pl.LpContinuous)"
   ]
  },
  {
   "cell_type": "code",
   "execution_count": 18,
   "metadata": {
    "ExecuteTime": {
     "end_time": "2020-04-06T10:31:16.588265Z",
     "start_time": "2020-04-06T10:31:16.486938Z"
    }
   },
   "outputs": [],
   "source": [
    "for p in travelTime:\n",
    "    prob += t1 >= X1[p]*travelTime[p], \"Trip 1 time for \" + str(p)\n",
    "    prob += t2 >= X2[p]*travelTime[p], \"Trip 2 time for \" + str(p)\n",
    "    prob += t3 >= X3[p]*travelTime[p], \"Trip 3 time for \" + str(p)"
   ]
  },
  {
   "cell_type": "markdown",
   "metadata": {},
   "source": [
    "## Minimize the travel time"
   ]
  },
  {
   "cell_type": "markdown",
   "metadata": {},
   "source": [
    "- Total time for the entire onwards and return trip"
   ]
  },
  {
   "cell_type": "code",
   "execution_count": 19,
   "metadata": {
    "ExecuteTime": {
     "end_time": "2020-04-06T10:31:16.660935Z",
     "start_time": "2020-04-06T10:31:16.595381Z"
    }
   },
   "outputs": [],
   "source": [
    "prob += t1 + pl.lpDot(Y1.values(), travelTime.values()) + t2 + pl.lpDot(Y2.values(), travelTime.values()) + t3 , \"Total travel time\""
   ]
  },
  {
   "cell_type": "markdown",
   "metadata": {},
   "source": [
    "## Results"
   ]
  },
  {
   "cell_type": "code",
   "execution_count": 20,
   "metadata": {
    "ExecuteTime": {
     "end_time": "2020-04-06T10:31:16.867588Z",
     "start_time": "2020-04-06T10:31:16.664027Z"
    }
   },
   "outputs": [
    {
     "data": {
      "text/plain": [
       "1"
      ]
     },
     "execution_count": 20,
     "metadata": {},
     "output_type": "execute_result"
    }
   ],
   "source": [
    "prob.solve()"
   ]
  },
  {
   "cell_type": "code",
   "execution_count": 21,
   "metadata": {
    "ExecuteTime": {
     "end_time": "2020-04-06T10:31:16.894014Z",
     "start_time": "2020-04-06T10:31:16.869816Z"
    }
   },
   "outputs": [
    {
     "data": {
      "text/plain": [
       "31"
      ]
     },
     "execution_count": 21,
     "metadata": {},
     "output_type": "execute_result"
    }
   ],
   "source": [
    "len(prob.variables())"
   ]
  },
  {
   "cell_type": "code",
   "execution_count": 29,
   "metadata": {
    "ExecuteTime": {
     "end_time": "2020-04-06T10:33:48.874693Z",
     "start_time": "2020-04-06T10:33:48.859305Z"
    }
   },
   "outputs": [
    {
     "data": {
      "text/plain": [
       "31"
      ]
     },
     "execution_count": 29,
     "metadata": {},
     "output_type": "execute_result"
    }
   ],
   "source": [
    "len(travelTime) * 3 + len(travelTime) * 3 + len(travelTime) + 3"
   ]
  },
  {
   "cell_type": "code",
   "execution_count": 22,
   "metadata": {
    "ExecuteTime": {
     "end_time": "2020-04-06T10:31:17.011714Z",
     "start_time": "2020-04-06T10:31:16.900236Z"
    }
   },
   "outputs": [
    {
     "data": {
      "text/plain": [
       "17.0"
      ]
     },
     "execution_count": 22,
     "metadata": {},
     "output_type": "execute_result"
    }
   ],
   "source": [
    "prob.objective.value()"
   ]
  },
  {
   "cell_type": "code",
   "execution_count": 23,
   "metadata": {
    "ExecuteTime": {
     "end_time": "2020-04-06T10:31:17.144351Z",
     "start_time": "2020-04-06T10:31:17.016540Z"
    }
   },
   "outputs": [
    {
     "name": "stdout",
     "output_type": "stream",
     "text": [
      "Time taken to cross: 17.0\n",
      "\t Trip_1_Asst\n",
      "\t Trip_1_Me\n",
      "\t Trip_1_Rt_Me\n",
      "\t Trip_2_Janitor\n",
      "\t Trip_2_Prof\n",
      "\t Trip_2_Rt_Asst\n",
      "\t Trip_3_Asst\n",
      "\t Trip_3_Me\n"
     ]
    }
   ],
   "source": [
    "if prob.status > 0:\n",
    "    print(\"Time taken to cross:\", prob.objective.value())\n",
    "    for var in prob.variables():\n",
    "        if var.value() > 0 and var.cat == pl.LpInteger and \"Trip\" in var.name:\n",
    "            print(\"\\t\", var)\n",
    "else: print(\"Problem infeasible\")"
   ]
  },
  {
   "cell_type": "code",
   "execution_count": 24,
   "metadata": {
    "ExecuteTime": {
     "end_time": "2020-04-06T10:31:17.228722Z",
     "start_time": "2020-04-06T10:31:17.152082Z"
    }
   },
   "outputs": [],
   "source": [
    "tripTravellers = {}\n",
    "trip = 1\n",
    "tripTravellers[\"Trip \" + str(trip)] = {\"Onward\":[X1[p] for p in travelTime if X1[p].value() > 0], \n",
    "                                       \"Return\":[Y1[p] for p in travelTime if Y1[p].value() > 0],\n",
    "                                      \"Time\": t1.value() + pl.lpDot(Y1.values(), travelTime.values()).value()}\n",
    "trip = 2\n",
    "tripTravellers[\"Trip \" + str(trip)] = {\"Onward\":[X2[p] for p in travelTime if X2[p].value() > 0], \n",
    "                                       \"Return\":[Y2[p] for p in travelTime if Y2[p].value() > 0],\n",
    "                                       \"Time\": t2.value() + pl.lpDot(Y2.values(), travelTime.values()).value()}\n",
    "trip = 3\n",
    "tripTravellers[\"Trip \" + str(trip)] = {\"Onward\":[X3[p] for p in travelTime if X3[p].value() > 0],\n",
    "                                       \"Time\": t3.value()}"
   ]
  },
  {
   "cell_type": "code",
   "execution_count": 25,
   "metadata": {
    "ExecuteTime": {
     "end_time": "2020-04-06T10:31:18.129227Z",
     "start_time": "2020-04-06T10:31:17.240564Z"
    }
   },
   "outputs": [
    {
     "data": {
      "text/plain": [
       "(2.0, 10.0, 2.0)"
      ]
     },
     "execution_count": 25,
     "metadata": {},
     "output_type": "execute_result"
    }
   ],
   "source": [
    "t1.value(), t2.value(), t3.value()"
   ]
  },
  {
   "cell_type": "code",
   "execution_count": 26,
   "metadata": {
    "ExecuteTime": {
     "end_time": "2020-04-06T10:31:18.234608Z",
     "start_time": "2020-04-06T10:31:18.138062Z"
    }
   },
   "outputs": [
    {
     "data": {
      "text/plain": [
       "{'Trip 1': {'Onward': [Trip_1_Asst, Trip_1_Me],\n",
       "  'Return': [Trip_1_Rt_Me],\n",
       "  'Time': 3.0},\n",
       " 'Trip 2': {'Onward': [Trip_2_Prof, Trip_2_Janitor],\n",
       "  'Return': [Trip_2_Rt_Asst],\n",
       "  'Time': 12.0},\n",
       " 'Trip 3': {'Onward': [Trip_3_Asst, Trip_3_Me], 'Time': 2.0}}"
      ]
     },
     "execution_count": 26,
     "metadata": {},
     "output_type": "execute_result"
    }
   ],
   "source": [
    "tripTravellers"
   ]
  }
 ],
 "metadata": {
  "@webio": {
   "lastCommId": null,
   "lastKernelId": null
  },
  "kernelspec": {
   "display_name": "Python 3",
   "language": "python",
   "name": "python3"
  },
  "language_info": {
   "codemirror_mode": {
    "name": "ipython",
    "version": 3
   },
   "file_extension": ".py",
   "mimetype": "text/x-python",
   "name": "python",
   "nbconvert_exporter": "python",
   "pygments_lexer": "ipython3",
   "version": "3.7.4"
  }
 },
 "nbformat": 4,
 "nbformat_minor": 2
}
